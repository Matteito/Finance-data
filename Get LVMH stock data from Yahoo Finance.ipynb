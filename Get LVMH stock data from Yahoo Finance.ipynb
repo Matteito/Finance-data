{
 "cells": [
  {
   "cell_type": "markdown",
   "metadata": {},
   "source": [
    "# Get LVMH stock data from Yahoo finance (from Python library : yfinance)"
   ]
  },
  {
   "cell_type": "code",
   "execution_count": 1,
   "metadata": {},
   "outputs": [],
   "source": [
    "# make sure to install Yahoo Finance library\n",
    "# you can use pip command in Conda prompt such as : pip install yfinance --upgrade --no-cache-dir\n",
    "\n",
    "import yfinance as yf\n",
    "import matplotlib.pyplot as plt\n",
    "import seaborn\n",
    "import pandas as pd"
   ]
  },
  {
   "cell_type": "code",
   "execution_count": 2,
   "metadata": {},
   "outputs": [
    {
     "name": "stdout",
     "output_type": "stream",
     "text": [
      "{'zip': '75008', 'sector': 'Consumer Cyclical', 'fullTimeEmployees': 148343, 'longBusinessSummary': \"LVMH MoÃ«t Hennessy - Louis Vuitton, SociÃ©tÃ© EuropÃ©enne operates as a luxury products company. The company offers champagnes, wines, and spirits under the Ao Yun, Ardbeg, Belvedere, Bodega Numanthia, Cape Mentelle, Chandon, ChÃ¢teau Cheval Blanc, ChÃ¢teau d'Yquem, Cheval des Andes, Clos des Lambrays, Clos19, Cloudy Bay, Dom PÃ©rignon, Glenmorangie, Hennessy, Krug, Mercier, MoÃ«t & Chandon, Newton, Vineyard, Ruinart, Terrazas de los Andes, Veuve Clicquot, Volcan de mi Tierra, and Woodinville brands. It also provides fashion and leather products under the Berluti, Celine, Christian Dior, Emilio Pucci, Fendi, Givenchy, Kenzo, Loewe, Loro Piana, Louis Vuitton, Marc Jacobs, Moynat, Nicholas Kirkwood, Pink Shirtmaker, and Rimowa brands. In addition, the company offers perfumes and cosmetics under the Acqua di Parma, Benefit Cosmetics, Fenty Beauty by Rihanna, Fresh, Parfums Givenchy, Guerlain, Kat Von D Beauty, Kenzo Parfums, Maison Francis Kurkdjian, Make Up For Ever, Marc Jacobs Beauty, Parfums Christian Dior, and Perfumes Loewe brands; watches and jewelry under the Bvlgari, Chaumet, Fred, Hublot, TAG Heuerand Zenith brands; and custom-designed yachts under the Feadship brand name, as well as designs and builds luxury yachts under the Royal Van Lent brand. Further, it provides daily newspapers under the Les Ã\\x89chos brand; Belmond, a luxury tourism service; home other activities under the Belmond, Cheval Blanc, Connaissance des Arts, Cova, Investir, Jardin d'Acclimatation, La Samaritaine, Le Parisien, and Radio Classique brands; and selective retailing products under the DFS, La Grande Epicerie de Paris, Le Bon MarchÃ© Rive Gauche, Sephora, and Starboard Cruise brands, as well as operates Jardin d'Acclimatation, a leisure and amusement park. The company operates 4,915 stores worldwide. LVMH MoÃ«t Hennessy - Louis Vuitton, SociÃ©tÃ© EuropÃ©enne was incorporated in 1923 and is headquartered in Paris, France.\", 'city': 'Paris', 'phone': '33 1 44 13 22 22', 'country': 'France', 'companyOfficers': [], 'website': 'http://www.lvmh.com', 'maxAge': 1, 'address1': '22, Avenue Montaigne', 'fax': '33 1 44 13 22 23', 'industry': 'Luxury Goods', 'previousClose': 571.7, 'regularMarketOpen': 580, 'twoHundredDayAverage': 491.96796, 'trailingAnnualDividendYield': 0.0104950145, 'payoutRatio': 0.4936, 'volume24Hr': None, 'regularMarketDayHigh': 580.4, 'navPrice': None, 'averageDailyVolume10Day': 361556, 'totalAssets': None, 'regularMarketPreviousClose': 571.7, 'fiftyDayAverage': 549.66943, 'trailingAnnualDividendRate': 6, 'open': 580, 'toCurrency': None, 'averageVolume10days': 361556, 'expireDate': None, 'yield': None, 'algorithm': None, 'dividendRate': 6, 'exDividendDate': 1618876800, 'beta': 0.956256, 'circulatingSupply': None, 'startDate': None, 'regularMarketDayLow': 572.5, 'priceHint': 2, 'currency': 'EUR', 'trailingPE': 61.888412, 'regularMarketVolume': 307550, 'lastMarket': None, 'maxSupply': None, 'openInterest': None, 'marketCap': 290526101504, 'volumeAllCurrencies': None, 'strikePrice': None, 'averageVolume': 404949, 'priceToSalesTrailing12Months': 6.506598, 'dayLow': 572.5, 'ask': 0, 'ytdReturn': None, 'askSize': 0, 'volume': 307550, 'fiftyTwoWeekHigh': 580.4, 'forwardPE': 41.496403, 'fromCurrency': None, 'fiveYearAvgDividendYield': 1.69, 'fiftyTwoWeekLow': 324.3, 'bid': 0, 'tradeable': False, 'dividendYield': 0.0105, 'bidSize': 0, 'dayHigh': 580.4, 'exchange': 'PAR', 'shortName': 'LVMH', 'longName': 'LVMH Moët Hennessy - Louis Vuitton, Société Européenne', 'exchangeTimezoneName': 'Europe/Paris', 'exchangeTimezoneShortName': 'CEST', 'isEsgPopulated': False, 'gmtOffSetMilliseconds': '7200000', 'quoteType': 'EQUITY', 'symbol': 'MC.PA', 'messageBoardId': 'finmb_195488', 'market': 'fr_market', 'annualHoldingsTurnover': None, 'enterpriseToRevenue': 6.86, 'beta3Year': None, 'profitMargins': 0.105299994, 'enterpriseToEbitda': 30.171, '52WeekChange': 0.65950656, 'morningStarRiskRating': None, 'forwardEps': 13.9, 'revenueQuarterlyGrowth': None, 'sharesOutstanding': 503686016, 'fundInceptionDate': None, 'annualReportExpenseRatio': None, 'bookValue': 74.245, 'sharesShort': None, 'sharesPercentSharesOut': None, 'fundFamily': None, 'lastFiscalYearEnd': 1609372800, 'heldPercentInstitutions': 0.20981, 'netIncomeToCommon': 4702000128, 'trailingEps': 9.32, 'lastDividendValue': 2, 'SandP52WeekChange': 0.533389, 'priceToBook': 7.7688727, 'heldPercentInsiders': 0.47609, 'nextFiscalYearEnd': 1672444800, 'mostRecentQuarter': 1609372800, 'shortRatio': None, 'sharesShortPreviousMonthDate': None, 'floatShares': 272108816, 'enterpriseValue': 306299273216, 'threeYearAverageReturn': None, 'lastSplitDate': 962582400, 'lastSplitFactor': '5:1', 'legalType': None, 'lastDividendDate': 1606780800, 'morningStarOverallRating': None, 'earningsQuarterlyGrowth': 0.071, 'dateShortInterest': None, 'pegRatio': None, 'lastCapGain': None, 'shortPercentOfFloat': None, 'sharesShortPriorMonth': None, 'impliedSharesOutstanding': None, 'category': None, 'fiveYearAverageReturn': None, 'regularMarketPrice': 580, 'logo_url': 'https://logo.clearbit.com/lvmh.com'}\n"
     ]
    }
   ],
   "source": [
    "# use the LVMH ticker\n",
    "\n",
    "LVMHstock = yf.Ticker(\"MC.PA\")\n",
    "print(LVMHstock.info)"
   ]
  },
  {
   "cell_type": "code",
   "execution_count": 3,
   "metadata": {},
   "outputs": [
    {
     "name": "stdout",
     "output_type": "stream",
     "text": [
      "                  Information  \\\n",
      "0                         zip   \n",
      "1                      sector   \n",
      "2           fullTimeEmployees   \n",
      "3         longBusinessSummary   \n",
      "4                        city   \n",
      "..                        ...   \n",
      "118  impliedSharesOutstanding   \n",
      "119                  category   \n",
      "120     fiveYearAverageReturn   \n",
      "121        regularMarketPrice   \n",
      "122                  logo_url   \n",
      "\n",
      "                                                Valeur  \n",
      "0                                                75008  \n",
      "1                                    Consumer Cyclical  \n",
      "2                                               148343  \n",
      "3    LVMH MoÃ«t Hennessy - Louis Vuitton, SociÃ©tÃ©...  \n",
      "4                                                Paris  \n",
      "..                                                 ...  \n",
      "118                                               None  \n",
      "119                                               None  \n",
      "120                                               None  \n",
      "121                                                580  \n",
      "122                 https://logo.clearbit.com/lvmh.com  \n",
      "\n",
      "[123 rows x 2 columns]\n"
     ]
    }
   ],
   "source": [
    "# we convert these data into a Pandas dataframe to export in CSV/Excel\n",
    "\n",
    "LVMHdata=LVMHstock.info\n",
    "LVMHdataN=pd.DataFrame.from_dict(LVMHdata, orient ='index')  \n",
    "LVMHdataN.reset_index(inplace=True)  \n",
    "LVMHdataN.rename(columns = {'index':'Information', 0:'Valeur'}, inplace = True) \n",
    "print(LVMHdataN)"
   ]
  },
  {
   "cell_type": "code",
   "execution_count": 4,
   "metadata": {},
   "outputs": [
    {
     "name": "stdout",
     "output_type": "stream",
     "text": [
      "           Date        Open        High         Low       Close   Volume  \\\n",
      "0    2011-04-06   92.809908   93.336778   91.999341   92.404625   843556   \n",
      "1    2011-04-07   92.485686   92.809914   90.621386   90.742966   828712   \n",
      "2    2011-04-08   91.067170   92.201965   89.567623   90.135017  1011481   \n",
      "3    2011-04-11   89.810801   90.418726   89.202875   90.094498   583693   \n",
      "4    2011-04-12   89.405543   89.972937   88.716556   89.000259   818970   \n",
      "...         ...         ...         ...         ...         ...      ...   \n",
      "2550 2021-03-29  555.599976  559.799988  554.799988  554.900024   223531   \n",
      "2551 2021-03-30  557.799988  573.500000  557.799988  573.500000   463377   \n",
      "2552 2021-03-31  573.500000  573.500000  564.599976  568.099976   440619   \n",
      "2553 2021-04-01  573.700012  573.799988  566.099976  571.700012   318700   \n",
      "2554 2021-04-06  580.000000  580.400024  572.500000  576.799988   307550   \n",
      "\n",
      "      Dividends  Stock Splits  \n",
      "0           0.0             0  \n",
      "1           0.0             0  \n",
      "2           0.0             0  \n",
      "3           0.0             0  \n",
      "4           0.0             0  \n",
      "...         ...           ...  \n",
      "2550        0.0             0  \n",
      "2551        0.0             0  \n",
      "2552        0.0             0  \n",
      "2553        0.0             0  \n",
      "2554        0.0             0  \n",
      "\n",
      "[2555 rows x 8 columns]\n"
     ]
    }
   ],
   "source": [
    "# get the last 10 years of the stock performance - \n",
    "\n",
    "hist = LVMHstock.history(period=\"10y\")\n",
    "hist = pd.DataFrame(hist)\n",
    "hist.reset_index(inplace=True)  \n",
    "print(hist)"
   ]
  },
  {
   "cell_type": "code",
   "execution_count": 5,
   "metadata": {},
   "outputs": [
    {
     "name": "stdout",
     "output_type": "stream",
     "text": [
      "<class 'pandas.core.frame.DataFrame'>\n"
     ]
    }
   ],
   "source": [
    "# to ensure that the data are a pandas dataframe, use the function type()\n",
    "\n",
    "print(type(hist))"
   ]
  },
  {
   "cell_type": "code",
   "execution_count": 6,
   "metadata": {},
   "outputs": [
    {
     "name": "stdout",
     "output_type": "stream",
     "text": [
      "        Date   Open        High    Low       Close  Volume  Dividends  \\\n",
      "0 2021-04-06  580.0  580.400024  572.5  576.799988  307550          0   \n",
      "\n",
      "   Stock Splits  \n",
      "0             0  \n"
     ]
    }
   ],
   "source": [
    "# how to get most recent stock price - use 1d parameter\n",
    "\n",
    "hist2 = LVMHstock.history(period=\"1d\")\n",
    "hist2 = pd.DataFrame(hist2)\n",
    "hist2.reset_index(inplace=True)  \n",
    "print(hist2)"
   ]
  },
  {
   "cell_type": "code",
   "execution_count": 7,
   "metadata": {},
   "outputs": [
    {
     "data": {
      "text/plain": [
       "<AxesSubplot:>"
      ]
     },
     "execution_count": 7,
     "metadata": {},
     "output_type": "execute_result"
    },
    {
     "data": {
      "image/png": "[encoded data removed]",
      "text/plain": [
       "<Figure size 1152x648 with 1 Axes>"
      ]
     },
     "metadata": {
      "needs_background": "light"
     },
     "output_type": "display_data"
    }
   ],
   "source": [
    "# quickly get an idea of the stock price evolution using Matplotlib library\n",
    "\n",
    "hist['Close'].plot(figsize=(16, 9))"
   ]
  },
  {
   "cell_type": "code",
   "execution_count": 8,
   "metadata": {},
   "outputs": [
    {
     "data": {
      "text/html": [
       "<div>\n",
       "<style scoped>\n",
       "    .dataframe tbody tr th:only-of-type {\n",
       "        vertical-align: middle;\n",
       "    }\n",
       "\n",
       "    .dataframe tbody tr th {\n",
       "        vertical-align: top;\n",
       "    }\n",
       "\n",
       "    .dataframe thead th {\n",
       "        text-align: right;\n",
       "    }\n",
       "</style>\n",
       "<table border=\"1\" class=\"dataframe\">\n",
       "  <thead>\n",
       "    <tr style=\"text-align: right;\">\n",
       "      <th></th>\n",
       "      <th>Value</th>\n",
       "    </tr>\n",
       "  </thead>\n",
       "  <tbody>\n",
       "    <tr>\n",
       "      <th>Earnings Date</th>\n",
       "      <td>2021-01-26</td>\n",
       "    </tr>\n",
       "    <tr>\n",
       "      <th>Earnings Average</th>\n",
       "      <td>NaT</td>\n",
       "    </tr>\n",
       "    <tr>\n",
       "      <th>Earnings Low</th>\n",
       "      <td>NaT</td>\n",
       "    </tr>\n",
       "    <tr>\n",
       "      <th>Earnings High</th>\n",
       "      <td>NaT</td>\n",
       "    </tr>\n",
       "    <tr>\n",
       "      <th>Revenue Average</th>\n",
       "      <td>NaT</td>\n",
       "    </tr>\n",
       "    <tr>\n",
       "      <th>Revenue Low</th>\n",
       "      <td>NaT</td>\n",
       "    </tr>\n",
       "    <tr>\n",
       "      <th>Revenue High</th>\n",
       "      <td>NaT</td>\n",
       "    </tr>\n",
       "  </tbody>\n",
       "</table>\n",
       "</div>"
      ],
      "text/plain": [
       "                      Value\n",
       "Earnings Date    2021-01-26\n",
       "Earnings Average        NaT\n",
       "Earnings Low            NaT\n",
       "Earnings High           NaT\n",
       "Revenue Average         NaT\n",
       "Revenue Low             NaT\n",
       "Revenue High            NaT"
      ]
     },
     "execution_count": 8,
     "metadata": {},
     "output_type": "execute_result"
    }
   ],
   "source": [
    "# get next events using the Calendar\n",
    "\n",
    "LVMHstock.calendar"
   ]
  },
  {
   "cell_type": "code",
   "execution_count": 9,
   "metadata": {},
   "outputs": [
    {
     "name": "stdout",
     "output_type": "stream",
     "text": [
      "[*********************100%***********************]  1 of 1 completed\n"
     ]
    }
   ],
   "source": [
    "# download stock price data and save these in a CSV file via Jupyter Notebook\n",
    "\n",
    "hist_df = yf.download(\"MC.PA\", start=\"2020-02-01\", end=\"2020-03-20\")\n",
    "hist_df.to_csv('LVMH stock data.csv')"
   ]
  },
  {
   "cell_type": "code",
   "execution_count": 10,
   "metadata": {},
   "outputs": [
    {
     "name": "stdout",
     "output_type": "stream",
     "text": [
      "\n",
      "CSV String:\n",
      " None\n"
     ]
    }
   ],
   "source": [
    "# imprimer en CSV et stockage dans le PC\n",
    "\n",
    "LVMHdataN_csv_data = LVMHdataN.to_csv('LVMHdataN.csv', index = True) \n",
    "print('\\nCSV String:\\n', LVMHdataN_csv_data) "
   ]
  }
 ],
 "metadata": {
  "kernelspec": {
   "display_name": "Python 3",
   "language": "python",
   "name": "python3"
  },
  "language_info": {
   "codemirror_mode": {
    "name": "ipython",
    "version": 3
   },
   "file_extension": ".py",
   "mimetype": "text/x-python",
   "name": "python",
   "nbconvert_exporter": "python",
   "pygments_lexer": "ipython3",
   "version": "3.8.5"
  }
 },
 "nbformat": 4,
 "nbformat_minor": 4
}
